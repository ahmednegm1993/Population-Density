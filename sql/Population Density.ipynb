{
 "cells": [
  {
   "cell_type": "code",
   "execution_count": 3,
   "id": "3bea1186-96c6-458b-b3d0-c8bf99006faf",
   "metadata": {},
   "outputs": [],
   "source": [
    "import pandas as pd\n",
    "import sqlite3"
   ]
  },
  {
   "cell_type": "code",
   "execution_count": 1,
   "id": "aecba2d5-eb23-4892-a814-baeeb7d746f1",
   "metadata": {},
   "outputs": [],
   "source": [
    "excel_file = 'E:\\\\Data_analysis_projects\\\\Population Density\\\\dataset\\\\cities_population.xlsx'"
   ]
  },
  {
   "cell_type": "code",
   "execution_count": 4,
   "id": "bf3c9c47-47a9-47b7-8e01-416d8e4043af",
   "metadata": {},
   "outputs": [],
   "source": [
    "excel_data = pd.read_excel(excel_file, sheet_name=None)"
   ]
  },
  {
   "cell_type": "code",
   "execution_count": 5,
   "id": "cae551f0-b6e5-4e59-ab2d-58c29d7b7527",
   "metadata": {},
   "outputs": [],
   "source": [
    "conn = sqlite3.connect(':memory:')"
   ]
  },
  {
   "cell_type": "code",
   "execution_count": 6,
   "id": "c129921b-7867-4ec8-bc76-d70149e0eb12",
   "metadata": {},
   "outputs": [],
   "source": [
    "for sheet_name, df in excel_data.items():\n",
    "    df.to_sql(sheet_name, conn, index=False, if_exists='replace')"
   ]
  },
  {
   "cell_type": "code",
   "execution_count": 17,
   "id": "189fd8b3-98f6-4e8e-8863-8bbf2d060710",
   "metadata": {},
   "outputs": [],
   "source": [
    "query = \"SELECT city,country, round((Population / Area),0) as density from sheet1 group by city,country\"\n"
   ]
  },
  {
   "cell_type": "code",
   "execution_count": 18,
   "id": "9c4934c7-f860-475f-8894-99b51f7101e6",
   "metadata": {},
   "outputs": [],
   "source": [
    "results = pd.read_sql_query(query, conn)"
   ]
  },
  {
   "cell_type": "code",
   "execution_count": 19,
   "id": "2cc1f76c-060e-4a44-b99d-a9a21c3f0ed4",
   "metadata": {},
   "outputs": [
    {
     "name": "stdout",
     "output_type": "stream",
     "text": [
      "           city      country  density\n",
      "0        City_1   Country_29    102.0\n",
      "1       City_10   Country_60   1175.0\n",
      "2      City_100  Country_100     35.0\n",
      "3     City_1000   Country_26     39.0\n",
      "4     City_1001   Country_54    825.0\n",
      "...         ...          ...      ...\n",
      "4995   City_995   Country_48   1048.0\n",
      "4996   City_996   Country_12    135.0\n",
      "4997   City_997   Country_40    738.0\n",
      "4998   City_998   Country_97    329.0\n",
      "4999   City_999   Country_37    125.0\n",
      "\n",
      "[5000 rows x 3 columns]\n"
     ]
    }
   ],
   "source": [
    "print(results)"
   ]
  },
  {
   "cell_type": "code",
   "execution_count": 23,
   "id": "47a0f765-299e-477f-9d80-515b2e380aff",
   "metadata": {},
   "outputs": [],
   "source": [
    "q2=\"\"\"SELECT city, country, density\n",
    "FROM (\n",
    "    SELECT city, country, round((population / area),0) as density\n",
    "    FROM sheet1\n",
    "    GROUP BY city, country\n",
    ")\n",
    "ORDER BY density ASC\n",
    "LIMIT 1\"\"\""
   ]
  },
  {
   "cell_type": "code",
   "execution_count": 24,
   "id": "19e7224b-647c-4e29-8b50-a572576d7dd9",
   "metadata": {},
   "outputs": [],
   "source": [
    "results = pd.read_sql_query(q2, conn)"
   ]
  },
  {
   "cell_type": "code",
   "execution_count": 25,
   "id": "17dcab8d-62a6-4df7-9b19-db6db262ace4",
   "metadata": {},
   "outputs": [
    {
     "name": "stdout",
     "output_type": "stream",
     "text": [
      "        city    country  density\n",
      "0  City_1028  Country_3      0.0\n"
     ]
    }
   ],
   "source": [
    "print(results)"
   ]
  },
  {
   "cell_type": "code",
   "execution_count": 26,
   "id": "421390d1-d803-41d1-9938-7c21fbd10be2",
   "metadata": {},
   "outputs": [],
   "source": [
    "q3=\"\"\"SELECT city, country, density\n",
    "FROM (\n",
    "    SELECT city, country, round((population / area),0) as density\n",
    "    FROM sheet1\n",
    "    GROUP BY city, country\n",
    ")\n",
    "ORDER BY density Des\n",
    "LIMIT 1\"\"\""
   ]
  },
  {
   "cell_type": "code",
   "execution_count": null,
   "id": "35b41850-6d84-4695-ac4c-a4acea0ba1fa",
   "metadata": {},
   "outputs": [],
   "source": [
    "results = pd.read_sql_query(q3, conn)"
   ]
  },
  {
   "cell_type": "code",
   "execution_count": null,
   "id": "77162f03-9d14-4208-bc0e-d2421182d0f0",
   "metadata": {},
   "outputs": [],
   "source": [
    "print(results)"
   ]
  },
  {
   "cell_type": "code",
   "execution_count": null,
   "id": "2f91f44f-5045-47db-8d4c-48108bb941a6",
   "metadata": {},
   "outputs": [],
   "source": []
  },
  {
   "cell_type": "code",
   "execution_count": null,
   "id": "22263f6c-9d6d-42bc-912d-1578934efa69",
   "metadata": {},
   "outputs": [],
   "source": []
  },
  {
   "cell_type": "code",
   "execution_count": null,
   "id": "1d71204a-d00b-419a-af5d-c0cdb9d064dd",
   "metadata": {},
   "outputs": [],
   "source": []
  },
  {
   "cell_type": "code",
   "execution_count": null,
   "id": "08631ac3-502e-47cc-b0c8-0126786d68c1",
   "metadata": {},
   "outputs": [],
   "source": []
  }
 ],
 "metadata": {
  "kernelspec": {
   "display_name": "Python 3 (ipykernel)",
   "language": "python",
   "name": "python3"
  },
  "language_info": {
   "codemirror_mode": {
    "name": "ipython",
    "version": 3
   },
   "file_extension": ".py",
   "mimetype": "text/x-python",
   "name": "python",
   "nbconvert_exporter": "python",
   "pygments_lexer": "ipython3",
   "version": "3.10.0"
  }
 },
 "nbformat": 4,
 "nbformat_minor": 5
}
